{
  "nbformat": 4,
  "nbformat_minor": 0,
  "metadata": {
    "colab": {
      "provenance": [],
      "authorship_tag": "ABX9TyOZZuHUUtTltvH/6qjLSAin",
      "include_colab_link": true
    },
    "kernelspec": {
      "name": "python3",
      "display_name": "Python 3"
    },
    "language_info": {
      "name": "python"
    }
  },
  "cells": [
    {
      "cell_type": "markdown",
      "metadata": {
        "id": "view-in-github",
        "colab_type": "text"
      },
      "source": [
        "<a href=\"https://colab.research.google.com/github/akutayaydin/sarcopenia_app/blob/main/app_py.ipynb\" target=\"_parent\"><img src=\"https://colab.research.google.com/assets/colab-badge.svg\" alt=\"Open In Colab\"/></a>"
      ]
    },
    {
      "cell_type": "code",
      "execution_count": null,
      "metadata": {
        "colab": {
          "base_uri": "https://localhost:8080/",
          "height": 385
        },
        "id": "jVyGhHPtD6MQ",
        "outputId": "42edf426-22a4-4a8e-9cbb-6926a38d86ec"
      },
      "outputs": [
        {
          "output_type": "error",
          "ename": "ModuleNotFoundError",
          "evalue": "ignored",
          "traceback": [
            "\u001b[0;31m---------------------------------------------------------------------------\u001b[0m",
            "\u001b[0;31mModuleNotFoundError\u001b[0m                       Traceback (most recent call last)",
            "\u001b[0;32m<ipython-input-1-1c412ec3b7bf>\u001b[0m in \u001b[0;36m<cell line: 2>\u001b[0;34m()\u001b[0m\n\u001b[1;32m      1\u001b[0m \u001b[0;32mimport\u001b[0m \u001b[0mpickle\u001b[0m\u001b[0;34m\u001b[0m\u001b[0;34m\u001b[0m\u001b[0m\n\u001b[0;32m----> 2\u001b[0;31m \u001b[0;32mimport\u001b[0m \u001b[0mstreamlit\u001b[0m \u001b[0;32mas\u001b[0m \u001b[0mst\u001b[0m\u001b[0;34m\u001b[0m\u001b[0;34m\u001b[0m\u001b[0m\n\u001b[0m\u001b[1;32m      3\u001b[0m \u001b[0;32mimport\u001b[0m \u001b[0mpandas\u001b[0m \u001b[0;32mas\u001b[0m \u001b[0mpd\u001b[0m\u001b[0;34m\u001b[0m\u001b[0;34m\u001b[0m\u001b[0m\n\u001b[1;32m      4\u001b[0m \u001b[0;34m\u001b[0m\u001b[0m\n\u001b[1;32m      5\u001b[0m \u001b[0;31m# Load the machine learning model from the pickle file\u001b[0m\u001b[0;34m\u001b[0m\u001b[0;34m\u001b[0m\u001b[0m\n",
            "\u001b[0;31mModuleNotFoundError\u001b[0m: No module named 'streamlit'",
            "",
            "\u001b[0;31m---------------------------------------------------------------------------\u001b[0;32m\nNOTE: If your import is failing due to a missing package, you can\nmanually install dependencies using either !pip or !apt.\n\nTo view examples of installing some common dependencies, click the\n\"Open Examples\" button below.\n\u001b[0;31m---------------------------------------------------------------------------\u001b[0m\n"
          ],
          "errorDetails": {
            "actions": [
              {
                "action": "open_url",
                "actionText": "Open Examples",
                "url": "/notebooks/snippets/importing_libraries.ipynb"
              }
            ]
          }
        }
      ],
      "source": [
        "import pickle\n",
        "import streamlit as st\n",
        "import pandas as pd\n",
        "import sklearn\n",
        "from sklearn.ensemble import GradientBoostingClassifier\n",
        "\n",
        "# Load the machine learning model from the pickle file\n",
        "with open('Sarcopenia_Model_SF.pkl', 'rb') as model_file:\n",
        "    loaded_model = pickle.load(model_file)\n",
        "\n",
        "# Define function to collect user input and make predictions\n",
        "def predict_sarcopenia(user_input):\n",
        "    # Create a DataFrame with the user input\n",
        "    input_data = pd.DataFrame(user_input, index=[0])\n",
        "\n",
        "    # Ensure that the input data matches the format used during training (e.g., scaling)\n",
        "\n",
        "    # Make predictions using the loaded model\n",
        "    predictions = loaded_model.predict(input_data)\n",
        "    return predictions[0]\n",
        "\n",
        "# Streamlit app\n",
        "st.title(\"Sarcopenia Prediction App\")\n",
        "\n",
        "# Collect user input for four features\n",
        "user_input = {}\n",
        "feature_names = ['GS_1','Gender_encoded','CST','Star']\n",
        "\n",
        "\n",
        "for feature_name in feature_names:\n",
        "    user_input[feature_name] = st.number_input(f\"Enter {feature_name}:\", step=0.01)\n",
        "\n",
        "# Make predictions when the user clicks the \"Predict\" button\n",
        "if st.button(\"Predict\"):\n",
        "    sarcopenia_prediction = predict_sarcopenia(user_input)\n",
        "    if sarcopenia_prediction == 0:\n",
        "      st.markdown(\"<h3 style='color: blue;'>The model forecasts that the patient will not receive a diagnosis of Sarcopenia</h1>\",unsafe_allow_html=True)\n",
        "    else:\n",
        "      st.markdown(\"<h3 style='color: orange;'>The model forecasts that the patient will receive a diagnosis of Sarcopenia</h1>\",unsafe_allow_html=True)\n",
        "\n",
        "\n",
        "# Optionally, you can display additional information or visualizations here\n"
      ]
    },
    {
      "cell_type": "code",
      "source": [],
      "metadata": {
        "id": "is7ufcjGHPHa"
      },
      "execution_count": null,
      "outputs": []
    }
  ]
}